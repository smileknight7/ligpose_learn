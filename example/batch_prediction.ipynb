{
 "cells": [
  {
   "cell_type": "markdown",
   "source": [
    "# Batch prediction example\n",
    "\n",
    "This notebook performs a batch prediction for protein-ligand pairs with LigPose"
   ],
   "metadata": {
    "collapsed": false
   }
  },
  {
   "cell_type": "code",
   "execution_count": 1,
   "outputs": [],
   "source": [
    "import os\n",
    "import sys\n",
    "sys.path.append('../')\n",
    "import pandas as pd\n",
    "import torch\n",
    "\n",
    "from utils.prediction import predict"
   ],
   "metadata": {
    "collapsed": false,
    "ExecuteTime": {
     "end_time": "2023-07-13T16:54:41.726865800Z",
     "start_time": "2023-07-13T16:54:39.806754600Z"
    }
   }
  },
  {
   "cell_type": "markdown",
   "source": [
    "### Settings: input files"
   ],
   "metadata": {
    "collapsed": false
   }
  },
  {
   "cell_type": "code",
   "execution_count": 2,
   "outputs": [
    {
     "data": {
      "text/plain": "                               protein                               ligand  \\\n0  example_files/3g0g/3g0g_protein.pdb  example_files/3g0g/3g0g_ligand.mol2   \n1  example_files/4r6e/4r6e_protein.pdb  example_files/4r6e/4r6e_ligand.mol2   \n2  example_files/5a7b/5a7b_protein.pdb  example_files/5a7b/5a7b_ligand.mol2   \n3  example_files/6qlt/6qlt_protein.pdb  example_files/6qlt/6qlt_ligand.mol2   \n\n                     ref_pocket_center  \n0  example_files/3g0g/3g0g_ligand.mol2  \n1  example_files/4r6e/4r6e_ligand.mol2  \n2  example_files/5a7b/5a7b_ligand.mol2  \n3  example_files/6qlt/6qlt_ligand.mol2  ",
      "text/html": "<div>\n<style scoped>\n    .dataframe tbody tr th:only-of-type {\n        vertical-align: middle;\n    }\n\n    .dataframe tbody tr th {\n        vertical-align: top;\n    }\n\n    .dataframe thead th {\n        text-align: right;\n    }\n</style>\n<table border=\"1\" class=\"dataframe\">\n  <thead>\n    <tr style=\"text-align: right;\">\n      <th></th>\n      <th>protein</th>\n      <th>ligand</th>\n      <th>ref_pocket_center</th>\n    </tr>\n  </thead>\n  <tbody>\n    <tr>\n      <th>0</th>\n      <td>example_files/3g0g/3g0g_protein.pdb</td>\n      <td>example_files/3g0g/3g0g_ligand.mol2</td>\n      <td>example_files/3g0g/3g0g_ligand.mol2</td>\n    </tr>\n    <tr>\n      <th>1</th>\n      <td>example_files/4r6e/4r6e_protein.pdb</td>\n      <td>example_files/4r6e/4r6e_ligand.mol2</td>\n      <td>example_files/4r6e/4r6e_ligand.mol2</td>\n    </tr>\n    <tr>\n      <th>2</th>\n      <td>example_files/5a7b/5a7b_protein.pdb</td>\n      <td>example_files/5a7b/5a7b_ligand.mol2</td>\n      <td>example_files/5a7b/5a7b_ligand.mol2</td>\n    </tr>\n    <tr>\n      <th>3</th>\n      <td>example_files/6qlt/6qlt_protein.pdb</td>\n      <td>example_files/6qlt/6qlt_ligand.mol2</td>\n      <td>example_files/6qlt/6qlt_ligand.mol2</td>\n    </tr>\n  </tbody>\n</table>\n</div>"
     },
     "execution_count": 2,
     "metadata": {},
     "output_type": "execute_result"
    }
   ],
   "source": [
    "input_file = 'example_files/example_input.csv'          # a csv file containing all the predicted tasks (i.e. protein ligand pairs)\n",
    "\n",
    "# It is formatted like this\n",
    "pd.read_csv(input_file)"
   ],
   "metadata": {
    "collapsed": false,
    "ExecuteTime": {
     "end_time": "2023-07-13T16:54:41.742824200Z",
     "start_time": "2023-07-13T16:54:41.737836200Z"
    }
   }
  },
  {
   "cell_type": "markdown",
   "source": [
    "### Settings: model configuration"
   ],
   "metadata": {
    "collapsed": false
   }
  },
  {
   "cell_type": "code",
   "execution_count": 3,
   "outputs": [],
   "source": [
    "device = 'cuda:0'                             # device (GPU recommended)\n",
    "param_path = '../suppl/LigPose_param.chk'     # path to LigPose parameters\n",
    "ens = 3                                       # ensemble number (large ens gives more accurate and stable predictions)\n",
    "batch_size = 4                                # batch_size, which will only be used when ens = 1\n",
    "task_list = ['structure']                     # tasks (['structure'] for structure prediction // ['screening'] for virtual screening // ['structure', 'screening'] for both two tasks)"
   ],
   "metadata": {
    "collapsed": false,
    "ExecuteTime": {
     "end_time": "2023-07-13T16:54:41.799812400Z",
     "start_time": "2023-07-13T16:54:41.744817800Z"
    }
   }
  },
  {
   "cell_type": "markdown",
   "source": [
    "### Settings: data preprocessing and output"
   ],
   "metadata": {
    "collapsed": false
   }
  },
  {
   "cell_type": "code",
   "execution_count": 4,
   "outputs": [],
   "source": [
    "cache_path = './cache'                                  # a temporary path for saving processed files\n",
    "prepare_data_with_multi_cpu = True                      # set to True to process input files with multiple CPUs\n",
    "\n",
    "output_structure_path='./output_structure'              # path to saving output structures\n",
    "output_result_path='./output_result.csv'                # path to saving output records (in csv format)"
   ],
   "metadata": {
    "collapsed": false,
    "ExecuteTime": {
     "end_time": "2023-07-13T16:54:41.817654400Z",
     "start_time": "2023-07-13T16:54:41.772744600Z"
    }
   }
  },
  {
   "cell_type": "markdown",
   "source": [
    "### Run LigPose"
   ],
   "metadata": {
    "collapsed": false
   }
  },
  {
   "cell_type": "code",
   "execution_count": 5,
   "outputs": [
    {
     "name": "stdout",
     "output_type": "stream",
     "text": [
      "Preparing data...\n",
      "Prepared data: 4/4, 100.00%\n"
     ]
    },
    {
     "data": {
      "text/plain": "Predicting:   0%|          | 0/4 [00:00<?, ?it/s]",
      "application/vnd.jupyter.widget-view+json": {
       "version_major": 2,
       "version_minor": 0,
       "model_id": "8c757d2824b44d68a013aaf1022385b7"
      }
     },
     "metadata": {},
     "output_type": "display_data"
    },
    {
     "name": "stdout",
     "output_type": "stream",
     "text": [
      "DONE\n"
     ]
    }
   ],
   "source": [
    "predict(\n",
    "    param_path,\n",
    "    device=device,\n",
    "    batch_csv=input_file,\n",
    "    prepare_data_with_multi_cpu=prepare_data_with_multi_cpu,\n",
    "    cache_path=cache_path,\n",
    "    ens=ens,\n",
    "    batch_size=batch_size,\n",
    "    pred_type=task_list,\n",
    "    output_structure_path=output_structure_path,\n",
    "    output_result_path=output_result_path,\n",
    ")"
   ],
   "metadata": {
    "collapsed": false,
    "ExecuteTime": {
     "end_time": "2023-07-13T16:55:34.310766700Z",
     "start_time": "2023-07-13T16:54:41.772744600Z"
    }
   }
  },
  {
   "cell_type": "markdown",
   "source": [
    "### Check ouputs\n",
    "\n",
    "The output csv file contains input file settings. The `index` column shows the index number of output structure files, e.g. index = 1 for `1.pdb`\n",
    "\n",
    "The `screening_score` shows the potential binding strength between proteins and ligands. The more positive the value, the stronger the binding."
   ],
   "metadata": {
    "collapsed": false
   }
  },
  {
   "cell_type": "code",
   "execution_count": 6,
   "outputs": [
    {
     "data": {
      "text/plain": "   index                              protein  \\\n0      0  example_files/3g0g/3g0g_protein.pdb   \n1      1  example_files/4r6e/4r6e_protein.pdb   \n2      2  example_files/5a7b/5a7b_protein.pdb   \n3      3  example_files/6qlt/6qlt_protein.pdb   \n\n                                ligand  \n0  example_files/3g0g/3g0g_ligand.mol2  \n1  example_files/4r6e/4r6e_ligand.mol2  \n2  example_files/5a7b/5a7b_ligand.mol2  \n3  example_files/6qlt/6qlt_ligand.mol2  ",
      "text/html": "<div>\n<style scoped>\n    .dataframe tbody tr th:only-of-type {\n        vertical-align: middle;\n    }\n\n    .dataframe tbody tr th {\n        vertical-align: top;\n    }\n\n    .dataframe thead th {\n        text-align: right;\n    }\n</style>\n<table border=\"1\" class=\"dataframe\">\n  <thead>\n    <tr style=\"text-align: right;\">\n      <th></th>\n      <th>index</th>\n      <th>protein</th>\n      <th>ligand</th>\n    </tr>\n  </thead>\n  <tbody>\n    <tr>\n      <th>0</th>\n      <td>0</td>\n      <td>example_files/3g0g/3g0g_protein.pdb</td>\n      <td>example_files/3g0g/3g0g_ligand.mol2</td>\n    </tr>\n    <tr>\n      <th>1</th>\n      <td>1</td>\n      <td>example_files/4r6e/4r6e_protein.pdb</td>\n      <td>example_files/4r6e/4r6e_ligand.mol2</td>\n    </tr>\n    <tr>\n      <th>2</th>\n      <td>2</td>\n      <td>example_files/5a7b/5a7b_protein.pdb</td>\n      <td>example_files/5a7b/5a7b_ligand.mol2</td>\n    </tr>\n    <tr>\n      <th>3</th>\n      <td>3</td>\n      <td>example_files/6qlt/6qlt_protein.pdb</td>\n      <td>example_files/6qlt/6qlt_ligand.mol2</td>\n    </tr>\n  </tbody>\n</table>\n</div>"
     },
     "execution_count": 6,
     "metadata": {},
     "output_type": "execute_result"
    }
   ],
   "source": [
    "df_result = pd.read_csv(output_result_path)\n",
    "df_result"
   ],
   "metadata": {
    "collapsed": false,
    "ExecuteTime": {
     "end_time": "2023-07-13T16:55:34.355644400Z",
     "start_time": "2023-07-13T16:55:34.313788500Z"
    }
   }
  }
 ],
 "metadata": {
  "kernelspec": {
   "display_name": "Python 3",
   "language": "python",
   "name": "python3"
  },
  "language_info": {
   "codemirror_mode": {
    "name": "ipython",
    "version": 2
   },
   "file_extension": ".py",
   "mimetype": "text/x-python",
   "name": "python",
   "nbconvert_exporter": "python",
   "pygments_lexer": "ipython2",
   "version": "2.7.6"
  }
 },
 "nbformat": 4,
 "nbformat_minor": 0
}
