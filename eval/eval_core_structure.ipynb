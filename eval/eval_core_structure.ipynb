{
 "cells": [
  {
   "cell_type": "code",
   "execution_count": 1,
   "metadata": {
    "collapsed": true,
    "ExecuteTime": {
     "end_time": "2023-07-09T09:31:45.343219100Z",
     "start_time": "2023-07-09T09:31:43.621984600Z"
    }
   },
   "outputs": [],
   "source": [
    "import os\n",
    "import shutil\n",
    "import sys\n",
    "sys.path.append('/'.join(os.path.abspath(__file__).split('/')[:-2]))\n",
    "\n",
    "from collections import defaultdict\n",
    "from tqdm.notebook import tqdm\n",
    "\n",
    "from einops import rearrange\n",
    "\n",
    "from model.layers import LigPoseStruct\n",
    "from utils.pdbbind_utils import ComplexStructDataset, collate_struct, batch_index_select, pred_ens, calc_rmsd\n",
    "from utils.common import *"
   ]
  },
  {
   "cell_type": "code",
   "execution_count": 2,
   "outputs": [],
   "source": [
    "device = 'cuda:0'\n",
    "ens = 5\n",
    "seed = 7\n",
    "weight_path = '../example/LigPose_param.chk'"
   ],
   "metadata": {
    "collapsed": false,
    "ExecuteTime": {
     "end_time": "2023-07-08T18:58:59.679991900Z",
     "start_time": "2023-07-08T18:58:59.677998500Z"
    }
   }
  },
  {
   "cell_type": "code",
   "execution_count": 5,
   "outputs": [
    {
     "data": {
      "text/plain": "  0%|          | 0/285 [00:00<?, ?it/s]",
      "application/vnd.jupyter.widget-view+json": {
       "version_major": 2,
       "version_minor": 0,
       "model_id": "1323e3728082410fbf06ccd5deed9b78"
      }
     },
     "metadata": {},
     "output_type": "display_data"
    },
    {
     "ename": "SystemExit",
     "evalue": "",
     "output_type": "error",
     "traceback": [
      "An exception has occurred, use %tb to see the full traceback.\n",
      "\u001B[0;31mSystemExit\u001B[0m\n"
     ]
    }
   ],
   "source": [
    "if device == 'cpu':\n",
    "    torch.set_num_threads(16)\n",
    "else:\n",
    "     torch.cuda.set_device(device)\n",
    "set_all_seed(seed)\n",
    "\n",
    "chk = torch.load(weight_path, map_location=device)\n",
    "args = chk['struct_args']\n",
    "model = LigPoseStruct(args).to(device)\n",
    "model.load_state_dict(chk['struct_state_dict'], strict=True)\n",
    "model.train(False)\n",
    "\n",
    "\n",
    "test_list = []\n",
    "for i in load_idx_list('pdbbind/core_test/test_list.txt'):\n",
    "    test_list += [i] * ens\n",
    "test_dataset = ComplexStructDataset('test', args, test_list)\n",
    "test_loader = torch.utils.data.DataLoader(dataset=test_dataset, batch_size=ens, num_workers=2,\n",
    "                                         shuffle=False, persistent_workers=False,\n",
    "                                         collate_fn=collate_struct)\n",
    "\n",
    "\n",
    "with torch.no_grad():\n",
    "\n",
    "    dic_eval = defaultdict(list)\n",
    "\n",
    "    for dic_data in tqdm(test_loader):\n",
    "        dic_data = dic_data.to(device)\n",
    "\n",
    "        tup_pred = model(dic_data)\n",
    "        ens_pred = pred_ens(tup_pred[0][-1], dic_data)\n",
    "\n",
    "        coor_true = batch_index_select(dic_data.coor_true, dic_data.node_sampling_loc[dic_data.cycle_i])\n",
    "        coor_true = rearrange(coor_true, 'b n c -> (b n) c')[dic_data.ligand_node_loc_after_sampling_flat].reshape(ens, -1, 3)  # to (ens, n_atom, 3)\n",
    "        ens_pred, coor_true = ens_pred * args.coor_scale, coor_true * args.coor_scale\n",
    "        ligand_match = dic_data.ligand_match.reshape(ens, -1)[0]\n",
    "\n",
    "        rmsd_match_ens, _, _ = calc_rmsd(ens_pred.unsqueeze(0), coor_true[[0]], match=ligand_match) # return [match, 1]\n",
    "        rmsd_value = rmsd_match_ens.min()\n",
    "\n",
    "        dic_eval['idx'].append(dic_data['idx'][0])\n",
    "        dic_eval['rmsd_value'].append(rmsd_value.item())\n",
    "\n",
    "\n",
    "dic_eval['rmsd_value'] = np.array(dic_eval['rmsd_value'])\n",
    "succ_rate = (dic_eval['rmsd_value'] < 2).sum() / len(dic_eval['rmsd_value'])\n",
    "print(f\"RMSD < 2A: {(dic_eval['rmsd_value'] < 2).sum()}/{len(dic_eval['rmsd_value'])}, {succ_rate*100:.2f}%\")"
   ],
   "metadata": {
    "collapsed": false,
    "ExecuteTime": {
     "end_time": "2023-07-08T19:17:10.398491100Z",
     "start_time": "2023-07-08T19:12:13.581568900Z"
    }
   }
  }
 ],
 "metadata": {
  "kernelspec": {
   "display_name": "Python 3",
   "language": "python",
   "name": "python3"
  },
  "language_info": {
   "codemirror_mode": {
    "name": "ipython",
    "version": 2
   },
   "file_extension": ".py",
   "mimetype": "text/x-python",
   "name": "python",
   "nbconvert_exporter": "python",
   "pygments_lexer": "ipython2",
   "version": "2.7.6"
  }
 },
 "nbformat": 4,
 "nbformat_minor": 0
}
